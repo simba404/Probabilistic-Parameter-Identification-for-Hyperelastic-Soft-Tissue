{
 "cells": [
  {
   "cell_type": "markdown",
   "metadata": {
    "id": "pxw81pU5d8km"
   },
   "source": [
    "**`Mechanical Model`**\n",
    "\n",
    "To apply the Markov Chain Monte Carlo (MCMC) algorithm to a linear elastic mechanical model, we first need to define the model and the distribution of the parameters. In this case, we will assume that the Young's modulus E follows a normal distribution with mean 100 and standard deviation 10.\n",
    "\n",
    "The linear elastic mechanical model can be described by the following equation:\n",
    "\n",
    "σ = Eε\n",
    "\n",
    "where E is the variable we are trying to identify."
   ]
  },
  {
   "cell_type": "code",
   "execution_count": 21,
   "metadata": {
    "colab": {
     "base_uri": "https://localhost:8080/",
     "height": 643
    },
    "executionInfo": {
     "elapsed": 2790,
     "status": "ok",
     "timestamp": 1678676451734,
     "user": {
      "displayName": "Ho pe",
      "userId": "12614667379633656986"
     },
     "user_tz": 0
    },
    "id": "l_4wSjsxwKQO",
    "outputId": "96ab86b1-f319-48dd-bb61-1ec6f01b4059"
   },
   "outputs": [
    {
     "name": "stdout",
     "output_type": "stream",
     "text": [
      "Drive already mounted at /content/gdrive; to attempt to forcibly remount, call drive.mount(\"/content/gdrive\", force_remount=True).\n"
     ]
    },
    {
     "data": {
      "text/plain": [
       "Text(0.5, 0, 'Strain')"
      ]
     },
     "execution_count": 21,
     "metadata": {},
     "output_type": "execute_result"
    },
    {
     "data": {
      "image/png": "[encoded data removed]",
      "text/plain": [
       "<Figure size 720x720 with 1 Axes>"
      ]
     },
     "metadata": {
      "needs_background": "light"
     },
     "output_type": "display_data"
    }
   ],
   "source": [
    "# Display Data\n",
    "import numpy as np\n",
    "from google.colab import drive\n",
    "drive.mount('/content/gdrive')\n",
    "import pandas as pd\n",
    "\n",
    "# Read the csv file using pandas\n",
    "df = pd.read_csv('/content/gdrive/My Drive/Colab Notebooks/MDM project/MData.csv')\n",
    "\n",
    "# Convert the dataframe to a 3D numpy array\n",
    "array_3d = np.array([df.values.tolist()])\n",
    "strain = array_3d[0,:,0]\n",
    "stress = array_3d[0,:,1]\n",
    "sd = array_3d[0,:,2]\n",
    "\n",
    "import matplotlib.pyplot as plt\n",
    "#Plot Strain-Stress Scatter Graph.\n",
    "fig1 = plt.figure(figsize=(10,10))\n",
    "ax1 = fig1.add_subplot(1,1,1)\n",
    "y = stress\n",
    "x = strain\n",
    "ax1.errorbar(x,y,yerr=sd, fmt='o', color='b', ecolor='m', alpha=0.5)\n",
    "ax1.set_ylabel('Stress')\n",
    "ax1.set_xlabel('Strain')"
   ]
  },
  {
   "cell_type": "code",
   "execution_count": 22,
   "metadata": {
    "executionInfo": {
     "elapsed": 32,
     "status": "ok",
     "timestamp": 1678676451738,
     "user": {
      "displayName": "Ho pe",
      "userId": "12614667379633656986"
     },
     "user_tz": 0
    },
    "id": "vCdPLr7wd0Pz"
   },
   "outputs": [],
   "source": [
    "def likelihood(params, strain, stress, sd):\n",
    "    E, sigma = params\n",
    "    mu = 0\n",
    "    log_likelihood = 0\n",
    "    for i in range(len(strain)):\n",
    "        log_likelihood += np.log(1 / (sd[i] * np.sqrt(2 * np.pi)) * np.exp(-(stress[i] - E * strain[i])**2 / (2 * sd[i]**2)))\n",
    "    return log_likelihood"
   ]
  },
  {
   "cell_type": "markdown",
   "metadata": {
    "id": "yIQHb2YceFfT"
   },
   "source": [
    "The prior distribution for the model parameters is simply the normal distribution we used to generate the values of E. \n",
    "\n",
    "N: The proposal_sd defines the \"transition model\" between current guess and new guess.\n",
    "\n",
    "We can then define the MCMC algorithm using the Metropolis-Hastings algorithm:"
   ]
  },
  {
   "cell_type": "code",
   "execution_count": 23,
   "metadata": {
    "executionInfo": {
     "elapsed": 31,
     "status": "ok",
     "timestamp": 1678676451739,
     "user": {
      "displayName": "Ho pe",
      "userId": "12614667379633656986"
     },
     "user_tz": 0
    },
    "id": "1Kbk4hMMeGPi"
   },
   "outputs": [],
   "source": [
    "def metropolis_hastings(n_iterations, initial_values, proposal_sds, strain, stress, sd):\n",
    "    n_params = len(initial_values)\n",
    "    samples = np.zeros((n_iterations, n_params))\n",
    "    current_values = initial_values\n",
    "    accepted = np.zeros(n_iterations)\n",
    "    rejected = np.zeros(n_iterations)\n",
    "    for i in range(n_iterations):\n",
    "        # Propose new values\n",
    "        proposal = current_values + np.random.normal(0, proposal_sds, n_params)\n",
    "        # Calculate the acceptance ratio\n",
    "        acceptance_ratio = min(1, np.exp(likelihood(proposal, strain, stress, sd) - likelihood(current_values, strain, stress, sd)))\n",
    "        # Decide whether to accept or reject the proposal\n",
    "        if np.random.rand() < acceptance_ratio:\n",
    "            current_values = proposal\n",
    "            accepted[i] = 1\n",
    "        else:\n",
    "            rejected[i] = 1\n",
    "        samples[i] = current_values\n",
    "    return samples, accepted, rejected"
   ]
  },
  {
   "cell_type": "code",
   "execution_count": 24,
   "metadata": {
    "colab": {
     "base_uri": "https://localhost:8080/"
    },
    "executionInfo": {
     "elapsed": 24,
     "status": "ok",
     "timestamp": 1678676452349,
     "user": {
      "displayName": "Ho pe",
      "userId": "12614667379633656986"
     },
     "user_tz": 0
    },
    "id": "VgXxCmrRg4-s",
    "outputId": "4b807bc6-e9f6-40c0-9a42-eea7f6227a83"
   },
   "outputs": [
    {
     "name": "stderr",
     "output_type": "stream",
     "text": [
      "<ipython-input-22-56eae82aa93f>:6: RuntimeWarning: divide by zero encountered in log\n",
      "  log_likelihood += np.log(1 / (sd[i] * np.sqrt(2 * np.pi)) * np.exp(-(stress[i] - E * strain[i])**2 / (2 * sd[i]**2)))\n",
      "<ipython-input-23-2189f128dec7>:11: RuntimeWarning: overflow encountered in exp\n",
      "  acceptance_ratio = min(1, np.exp(likelihood(proposal, strain, stress, sd) - likelihood(current_values, strain, stress, sd)))\n"
     ]
    }
   ],
   "source": [
    "n_iterations = 1000\n",
    "initial_values = [0.5, 0.01]\n",
    "proposal_sds = [1, 0.1]\n",
    "\n",
    "# Run MCMC algorithm\n",
    "samples, accepted, rejected = metropolis_hastings(n_iterations, initial_values, proposal_sds, strain, stress, sd)"
   ]
  },
  {
   "cell_type": "code",
   "execution_count": 25,
   "metadata": {
    "colab": {
     "base_uri": "https://localhost:8080/",
     "height": 606
    },
    "executionInfo": {
     "elapsed": 23,
     "status": "ok",
     "timestamp": 1678676452350,
     "user": {
      "displayName": "Ho pe",
      "userId": "12614667379633656986"
     },
     "user_tz": 0
    },
    "id": "riab44sAeNlb",
    "outputId": "d3f5fb7b-8fcb-4fef-fe97-14fb53516174"
   },
   "outputs": [
    {
     "data": {
      "image/png": "[encoded data removed]",
      "text/plain": [
       "<Figure size 720x720 with 1 Axes>"
      ]
     },
     "metadata": {
      "needs_background": "light"
     },
     "output_type": "display_data"
    }
   ],
   "source": [
    "import matplotlib.pyplot as plt\n",
    "\n",
    "fig = plt.figure(figsize=(10,10))\n",
    "ax = fig.add_subplot(1,1,1)\n",
    "#ax.plot(np.arange(n_iterations), samples, alpha=0.5)\n",
    "ax.plot(np.arange(n_iterations)[accepted==1], samples[accepted==1][:,0], 'go', alpha=0.5)\n",
    "ax.plot(np.arange(n_iterations)[rejected==1], samples[rejected==1][:,0], 'r+', alpha=0.5)\n",
    "ax.set_xlabel('Iteration')\n",
    "ax.set_ylabel('E')\n",
    "plt.show()"
   ]
  },
  {
   "cell_type": "code",
   "execution_count": 26,
   "metadata": {
    "colab": {
     "base_uri": "https://localhost:8080/",
     "height": 606
    },
    "executionInfo": {
     "elapsed": 23,
     "status": "ok",
     "timestamp": 1678676452352,
     "user": {
      "displayName": "Ho pe",
      "userId": "12614667379633656986"
     },
     "user_tz": 0
    },
    "id": "PqYpkYwsnrCr",
    "outputId": "9c749fc0-aa4a-4a60-bc41-8c57bf4d4755"
   },
   "outputs": [
    {
     "data": {
      "image/png": "[encoded data removed]",
      "text/plain": [
       "<Figure size 720x720 with 1 Axes>"
      ]
     },
     "metadata": {
      "needs_background": "light"
     },
     "output_type": "display_data"
    }
   ],
   "source": [
    "import matplotlib.pyplot as plt\n",
    "\n",
    "fig = plt.figure(figsize=(10,10))\n",
    "ax = fig.add_subplot(1,1,1)\n",
    "#ax.plot(np.arange(n_iterations), samples, alpha=0.5)\n",
    "ax.plot(np.arange(n_iterations)[accepted==1], samples[accepted==1][:,1], 'go', alpha=0.5)\n",
    "ax.plot(np.arange(n_iterations)[rejected==1], samples[rejected==1][:,1], 'r+', alpha=0.5)\n",
    "ax.set_xlabel('Iteration')\n",
    "ax.set_ylabel('Sigma')\n",
    "plt.show()"
   ]
  },
  {
   "cell_type": "code",
   "execution_count": 27,
   "metadata": {
    "colab": {
     "base_uri": "https://localhost:8080/",
     "height": 624
    },
    "executionInfo": {
     "elapsed": 236,
     "status": "ok",
     "timestamp": 1678676452567,
     "user": {
      "displayName": "Ho pe",
      "userId": "12614667379633656986"
     },
     "user_tz": 0
    },
    "id": "grndmRHf1u9v",
    "outputId": "4cb71ee8-d3ae-4c56-bb22-6d5c545e12c3"
   },
   "outputs": [
    {
     "name": "stdout",
     "output_type": "stream",
     "text": [
      "1.6723644493452412 0.5036654499559609\n"
     ]
    },
    {
     "data": {
      "image/png": "[encoded data removed]",
      "text/plain": [
       "<Figure size 720x720 with 1 Axes>"
      ]
     },
     "metadata": {
      "needs_background": "light"
     },
     "output_type": "display_data"
    }
   ],
   "source": [
    "fig1 = plt.figure(figsize=(10,10))\n",
    "ax1 = fig1.add_subplot(1,1,1)\n",
    "y = stress\n",
    "x = strain\n",
    "# Plot the trace of the parameters\n",
    "E, sigma = samples[accepted==1][-1]\n",
    "y2 = strain*E\n",
    "ax1.errorbar(x,y,yerr=sd, fmt='o', color='b', ecolor='m', alpha=0.5)\n",
    "ax1.errorbar(strain, y2, yerr=sigma, fmt='-',color='k', ecolor='red', capsize=1, alpha=0.5)\n",
    "ax1.set_ylabel('Stress')\n",
    "ax1.set_xlabel('Strain')\n",
    "print(E,sigma)"
   ]
  }
 ],
 "metadata": {
  "colab": {
   "authorship_tag": "ABX9TyNR4W7dGOAWrIMmPPYqoozs",
   "provenance": []
  },
  "kernelspec": {
   "display_name": "Python 3 (ipykernel)",
   "language": "python",
   "name": "python3"
  },
  "language_info": {
   "codemirror_mode": {
    "name": "ipython",
    "version": 3
   },
   "file_extension": ".py",
   "mimetype": "text/x-python",
   "name": "python",
   "nbconvert_exporter": "python",
   "pygments_lexer": "ipython3",
   "version": "3.10.9"
  }
 },
 "nbformat": 4,
 "nbformat_minor": 1
}
