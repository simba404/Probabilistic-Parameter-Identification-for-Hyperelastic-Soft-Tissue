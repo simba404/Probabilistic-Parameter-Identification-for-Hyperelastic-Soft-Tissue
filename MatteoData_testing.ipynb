{
 "cells": [
  {
   "cell_type": "code",
   "execution_count": 126,
   "metadata": {
    "colab": {
     "base_uri": "https://localhost:8080/"
    },
    "executionInfo": {
     "elapsed": 1511,
     "status": "ok",
     "timestamp": 1677870354995,
     "user": {
      "displayName": "Ho pe",
      "userId": "12614667379633656986"
     },
     "user_tz": 0
    },
    "id": "mRdMh7ZtHQcm",
    "outputId": "3ec31976-724d-48cb-8434-2cde5819c41c"
   },
   "outputs": [
    {
     "name": "stdout",
     "output_type": "stream",
     "text": [
      "Drive already mounted at /content/gdrive; to attempt to forcibly remount, call drive.mount(\"/content/gdrive\", force_remount=True).\n",
      "the array is=\n",
      "[0.25 0.45 0.5  0.52 0.55 0.54 0.57 0.6  0.66 0.67]\n"
     ]
    },
    {
     "data": {
      "text/plain": [
       "numpy.ndarray"
      ]
     },
     "execution_count": 126,
     "metadata": {},
     "output_type": "execute_result"
    }
   ],
   "source": [
    "##Data generation\n",
    "import numpy as np\n",
    "import matplotlib.pyplot as plt\n",
    "from google.colab import drive\n",
    "drive.mount('/content/gdrive')\n",
    "# open('/content/gdrive/My Drive/Colab Notebooks/MDM project/FirstDataset_Stress1.csv').read()\n",
    "\n",
    "stress1=np.array([])\n",
    "stress2=np.array([])\n",
    "stress3=np.array([])\n",
    "strain=np.array([]) #creating the array\n",
    "# using loadtxt()\n",
    "stress1 = np.loadtxt(\"/content/gdrive/My Drive/Colab Notebooks/MDM project/FirstDataset_Stress1.csv\",\n",
    "                 delimiter=\",\", dtype=float)\n",
    "print(\"the array is=\")\n",
    "#displaying our result.\n",
    "print(stress1)\n",
    "type(stress1)"
   ]
  },
  {
   "cell_type": "code",
   "execution_count": 127,
   "metadata": {
    "executionInfo": {
     "elapsed": 5,
     "status": "ok",
     "timestamp": 1677870354995,
     "user": {
      "displayName": "Ho pe",
      "userId": "12614667379633656986"
     },
     "user_tz": 0
    },
    "id": "oeFQ1-ixNXzv"
   },
   "outputs": [],
   "source": [
    "#help(np.ndarray)"
   ]
  },
  {
   "cell_type": "code",
   "execution_count": 128,
   "metadata": {
    "colab": {
     "base_uri": "https://localhost:8080/"
    },
    "executionInfo": {
     "elapsed": 4,
     "status": "ok",
     "timestamp": 1677870354995,
     "user": {
      "displayName": "Ho pe",
      "userId": "12614667379633656986"
     },
     "user_tz": 0
    },
    "id": "x2sYZzP-IPEB",
    "outputId": "b7e38639-bdf7-46c8-d6c5-5deaabb285a0"
   },
   "outputs": [
    {
     "name": "stdout",
     "output_type": "stream",
     "text": [
      "[0.2706  0.40318 0.47769 0.47462 0.50971 0.57235 0.58948 0.58171 0.70502\n",
      " 0.62344]\n",
      "[0.24387 0.43816 0.52655 0.54952 0.51869 0.53898 0.56456 0.61463 0.68094\n",
      " 0.69547]\n",
      "[0.05 0.1  0.15 0.2  0.25 0.3  0.35 0.4  0.45 0.5 ]\n"
     ]
    }
   ],
   "source": [
    "stress2 = np.loadtxt(\"/content/gdrive/My Drive/Colab Notebooks/MDM project/FirstDataset_Stress2.csv\",\n",
    "                 delimiter=\",\", dtype=float)\n",
    "stress3 = np.loadtxt(\"/content/gdrive/My Drive/Colab Notebooks/MDM project/FirstDataset_Stress3.csv\",\n",
    "                 delimiter=\",\", dtype=float)\n",
    "strain = np.loadtxt(\"/content/gdrive/My Drive/Colab Notebooks/MDM project/FirstDataset_Strain.csv\",\n",
    "                 delimiter=\",\", dtype=float)\n",
    "print(stress2)\n",
    "print(stress3)\n",
    "print(strain)"
   ]
  },
  {
   "cell_type": "code",
   "execution_count": 129,
   "metadata": {
    "colab": {
     "base_uri": "https://localhost:8080/"
    },
    "executionInfo": {
     "elapsed": 3,
     "status": "ok",
     "timestamp": 1677870354995,
     "user": {
      "displayName": "Ho pe",
      "userId": "12614667379633656986"
     },
     "user_tz": 0
    },
    "id": "7ETdLumJD17u",
    "outputId": "d7815d82-b76f-4a31-bc93-dc9902996810"
   },
   "outputs": [
    {
     "data": {
      "text/plain": [
       "numpy.ndarray"
      ]
     },
     "execution_count": 129,
     "metadata": {},
     "output_type": "execute_result"
    }
   ],
   "source": [
    "#Observation = E values based on a linear elastic model.\n",
    "\n",
    "list1 = stress1/strain\n",
    "\n",
    "list2 = stress2/strain\n",
    "\n",
    "list3 = stress3/strain\n",
    "\n",
    "type(list1)"
   ]
  },
  {
   "cell_type": "code",
   "execution_count": 130,
   "metadata": {
    "colab": {
     "base_uri": "https://localhost:8080/"
    },
    "executionInfo": {
     "elapsed": 3,
     "status": "ok",
     "timestamp": 1677870354995,
     "user": {
      "displayName": "Ho pe",
      "userId": "12614667379633656986"
     },
     "user_tz": 0
    },
    "id": "qmYYaifeu8V_",
    "outputId": "8ee87244-253e-4d67-e3bc-cd05595f2d99"
   },
   "outputs": [
    {
     "name": "stdout",
     "output_type": "stream",
     "text": [
      "[5.         4.5        3.33333333 2.6        2.2        1.8\n",
      " 1.62857143 1.5        1.46666667 1.34       5.412      4.0318\n",
      " 3.1846     2.3731     2.03884    1.90783333 1.68422857 1.454275\n",
      " 1.56671111 1.24688    4.8774     4.3816     3.51033333 2.7476\n",
      " 2.07476    1.7966     1.61302857 1.536575   1.5132     1.39094   ]\n"
     ]
    },
    {
     "data": {
      "text/plain": [
       "numpy.ndarray"
      ]
     },
     "execution_count": 130,
     "metadata": {},
     "output_type": "execute_result"
    }
   ],
   "source": [
    "\n",
    "observation = np.concatenate((list1, list2,list3), axis=0)\n",
    "\n",
    "print(observation)\n",
    "\n",
    "type(observation)"
   ]
  },
  {
   "cell_type": "code",
   "execution_count": 131,
   "metadata": {
    "colab": {
     "base_uri": "https://localhost:8080/",
     "height": 638
    },
    "executionInfo": {
     "elapsed": 335,
     "status": "ok",
     "timestamp": 1677870355328,
     "user": {
      "displayName": "Ho pe",
      "userId": "12614667379633656986"
     },
     "user_tz": 0
    },
    "id": "fOB3FaGHJt-6",
    "outputId": "b88f2430-bf83-4d04-ed35-84f93ea5bb7d"
   },
   "outputs": [
    {
     "name": "stdout",
     "output_type": "stream",
     "text": [
      "2.5236958783068784\n"
     ]
    },
    {
     "data": {
      "image/png": "[encoded data removed]",
      "text/plain": [
       "<Figure size 720x720 with 1 Axes>"
      ]
     },
     "metadata": {
      "needs_background": "light"
     },
     "output_type": "display_data"
    }
   ],
   "source": [
    "fig = plt.figure(figsize=(10,10))\n",
    "ax = fig.add_subplot(1,1,1)\n",
    "ax.hist(observation)\n",
    "ax.set_xlabel(\"Value\")\n",
    "ax.set_ylabel(\"Frequency\")\n",
    "ax.set_title(\"Figure 1: Data Distribution\")\n",
    "mu_obs=observation.mean()\n",
    "print(mu_obs)\n",
    "plt.show()"
   ]
  },
  {
   "cell_type": "code",
   "execution_count": 132,
   "metadata": {
    "executionInfo": {
     "elapsed": 3,
     "status": "ok",
     "timestamp": 1677870355328,
     "user": {
      "displayName": "Ho pe",
      "userId": "12614667379633656986"
     },
     "user_tz": 0
    },
    "id": "rF3YCmoeHySZ"
   },
   "outputs": [],
   "source": [
    "##Likelihood and acceptance with iteration\n",
    "#The tranistion model defines how to move from sigma_current to sigma_new\n",
    "transition_model = lambda x: [x[0],np.random.normal(x[1],0.5)] \n",
    "\n",
    "#lambda x: f(x) is an alternative way to create a function\n",
    "#\"lambda\" [parameter_list] \":\" expression \n",
    "#==def <lambda>(parameters):\n",
    "#    return expression\n",
    "#random.normal(Mean, Standard deviation, Output shape)\n",
    "\n",
    "#Hence, this transition function makes the mean the same and randomly reassign\n",
    "#variance using another nomarl distribution (mean2=old variance, variance2=0.5)\n",
    "#\"a tutorial...\" paper p11 talks about updating variance2 in the \"apdative method\".\n",
    "\n",
    "def prior(x):\n",
    "    #x[0] = mu, x[1]=sigma (new or current) #Important!\n",
    "    #returns 1 for all valid values of sigma. Log(1) =0, so it does not affect the summation.\n",
    "    #returns 0 for all invalid values of sigma (<=0). Log(0)=-infinity, and Log(negative number) is undefined.\n",
    "    #It makes the new sigma infinitely unlikely.\n",
    "    if(x[1] <=0):\n",
    "        return 0\n",
    "    return 1\n",
    "\n",
    "#Computes the likelihood of the data given a sigma (new or current) according to equation (2)\n",
    "#Apply log() to simplify computation\n",
    "def likelihood_computer(x,data):\n",
    "    #x[0]=mu, x[1]=sigma (new or current) #Important!\n",
    "    #data = the observation\n",
    "    return np.sum(-np.log(x[1] * np.sqrt(2* np.pi) )-((data-x[0])**2) / (2*x[1]**2))\n",
    "    #x[1] is S_noise in 'a tutorial...' paper\n",
    "\n",
    "#Defines whether to accept or reject the new sample\n",
    "def acceptance_rule(x, x_new):\n",
    "    if x_new>x:\n",
    "        return True\n",
    "    else:\n",
    "        accept=np.random.uniform(0,1)\n",
    "        # Since we did a log likelihood, we need to exponentiate in order to compare to the random number\n",
    "        # less likely x_new are less likely to be accepted\n",
    "        return (accept < (np.exp(x_new-x)))\n",
    "\n",
    "\n",
    "def metropolis_hastings(likelihood_computer,prior,transition_model, param_init,iterations,data,acceptance_rule):\n",
    "    # likelihood_computer(x,data): returns the likelihood that these parameters generated the data\n",
    "    # transition_model(x): a function that draws a sample from a symmetric distribution and returns it\n",
    "    # param_init: a starting sample\n",
    "    # iterations: number of accepted to generated\n",
    "    # data: the data that we wish to model\n",
    "    # acceptance_rule(x,x_new): decides whether to accept or reject the new sample\n",
    "    x = param_init\n",
    "    accepted = []\n",
    "    rejected = []   \n",
    "    for i in range(iterations):\n",
    "        x_new =  transition_model(x)    \n",
    "        x_lik = likelihood_computer(x,data)\n",
    "        x_new_lik = likelihood_computer(x_new,data) \n",
    "        if (acceptance_rule(x_lik+np.log(prior(x)),x_new_lik+np.log(prior(x_new)))):            \n",
    "            x = x_new\n",
    "            accepted.append(x_new)\n",
    "        else:\n",
    "            rejected.append(x_new)            \n",
    "                \n",
    "    return np.array(accepted), np.array(rejected)"
   ]
  },
  {
   "cell_type": "code",
   "execution_count": 133,
   "metadata": {
    "colab": {
     "base_uri": "https://localhost:8080/"
    },
    "executionInfo": {
     "elapsed": 205,
     "status": "ok",
     "timestamp": 1677870355531,
     "user": {
      "displayName": "Ho pe",
      "userId": "12614667379633656986"
     },
     "user_tz": 0
    },
    "id": "I8qVCm_TIP8q",
    "outputId": "7a3ff6c6-4748-41b3-d9a8-da054ff44ea1"
   },
   "outputs": [
    {
     "name": "stdout",
     "output_type": "stream",
     "text": [
      "[[2.52369588 0.82723954]\n",
      " [2.52369588 1.15740782]\n",
      " [2.52369588 1.48313194]\n",
      " ...\n",
      " [2.52369588 1.50853488]\n",
      " [2.52369588 1.43733254]\n",
      " [2.52369588 1.24677833]]\n",
      "[[ 2.52369588 -0.29201011]\n",
      " [ 2.52369588  1.54289089]\n",
      " [ 2.52369588  0.64288404]\n",
      " ...\n",
      " [ 2.52369588  2.18098201]\n",
      " [ 2.52369588  1.14631279]\n",
      " [ 2.52369588  0.86917698]]\n"
     ]
    },
    {
     "name": "stderr",
     "output_type": "stream",
     "text": [
      "<ipython-input-132-e8bd0a445289>:29: RuntimeWarning: invalid value encountered in log\n",
      "  return np.sum(-np.log(x[1] * np.sqrt(2* np.pi) )-((data-x[0])**2) / (2*x[1]**2))\n",
      "<ipython-input-132-e8bd0a445289>:57: RuntimeWarning: divide by zero encountered in log\n",
      "  if (acceptance_rule(x_lik+np.log(prior(x)),x_new_lik+np.log(prior(x_new)))):\n"
     ]
    }
   ],
   "source": [
    "##Step 6: Run the algorithm with initial parameters and collect accepted and rejected samples\n",
    "accepted, rejected = metropolis_hastings(likelihood_computer,prior,transition_model,[mu_obs,0.1],2000,observation,acceptance_rule)\n",
    "print(accepted)\n",
    "print(rejected)\n",
    "#The visualization code is not included but it is not important."
   ]
  },
  {
   "cell_type": "markdown",
   "metadata": {
    "id": "g_OAIdpaIWrQ"
   },
   "source": []
  },
  {
   "cell_type": "code",
   "execution_count": 134,
   "metadata": {
    "colab": {
     "base_uri": "https://localhost:8080/",
     "height": 606
    },
    "executionInfo": {
     "elapsed": 302,
     "status": "ok",
     "timestamp": 1677870355832,
     "user": {
      "displayName": "Ho pe",
      "userId": "12614667379633656986"
     },
     "user_tz": 0
    },
    "id": "vWYrAoyDalhC",
    "outputId": "a12cebe7-c9ef-4527-cde6-d97ef54ecffd"
   },
   "outputs": [
    {
     "data": {
      "image/png": "[encoded data removed]",
      "text/plain": [
       "<Figure size 720x720 with 1 Axes>"
      ]
     },
     "metadata": {
      "needs_background": "light"
     },
     "output_type": "display_data"
    }
   ],
   "source": [
    "# Plot the posterior distribution of the slope and intercept\n",
    "fig2 = plt.figure(figsize=(10,10))\n",
    "axs = fig2.add_subplot(1,1,1)\n",
    "\n",
    "# Plot the trace of the parameters\n",
    "axs.plot(accepted[:,0],label='accepted',marker='.', linestyle='none')\n",
    "axs.plot(rejected[:,0],label='rejected',marker='+', linestyle='none')\n",
    "axs.set_xlabel('Iteration')\n",
    "axs.set_ylabel('Mu Value')\n",
    "axs.legend()\n",
    "\n",
    "plt.show()"
   ]
  },
  {
   "cell_type": "code",
   "execution_count": 135,
   "metadata": {
    "colab": {
     "base_uri": "https://localhost:8080/",
     "height": 606
    },
    "executionInfo": {
     "elapsed": 336,
     "status": "ok",
     "timestamp": 1677870356165,
     "user": {
      "displayName": "Ho pe",
      "userId": "12614667379633656986"
     },
     "user_tz": 0
    },
    "id": "D4ivokfJdUpH",
    "outputId": "059c5342-2c78-4483-eb51-352422c55184"
   },
   "outputs": [
    {
     "data": {
      "image/png": "[encoded data removed]",
      "text/plain": [
       "<Figure size 720x720 with 1 Axes>"
      ]
     },
     "metadata": {
      "needs_background": "light"
     },
     "output_type": "display_data"
    }
   ],
   "source": [
    "# Plot the posterior distribution of the slope and intercept\n",
    "fig3 = plt.figure(figsize=(10,10))\n",
    "axs = fig3.add_subplot(1,1,1)\n",
    "\n",
    "# Plot the trace of the parameters\n",
    "axs.plot(accepted[:,1],label='accepted',marker='.', linestyle='none')\n",
    "axs.plot(rejected[:,1],label='rejected',marker='+', linestyle='none')\n",
    "axs.set_xlabel('Iteration')\n",
    "axs.set_ylabel('Sigma Value')\n",
    "axs.legend()\n",
    "\n",
    "plt.show()"
   ]
  },
  {
   "cell_type": "code",
   "execution_count": 138,
   "metadata": {
    "colab": {
     "base_uri": "https://localhost:8080/",
     "height": 621
    },
    "executionInfo": {
     "elapsed": 754,
     "status": "ok",
     "timestamp": 1677870643194,
     "user": {
      "displayName": "Ho pe",
      "userId": "12614667379633656986"
     },
     "user_tz": 0
    },
    "id": "TpCdc4f0ewp3",
    "outputId": "b09665cd-b02d-442f-85f4-50f2a59df94c"
   },
   "outputs": [
    {
     "data": {
      "image/png": "[encoded data removed]",
      "text/plain": [
       "<Figure size 720x720 with 1 Axes>"
      ]
     },
     "metadata": {
      "needs_background": "light"
     },
     "output_type": "display_data"
    }
   ],
   "source": [
    "#See how the probablitistic model compare with original data\n",
    "fig = plt.figure(figsize=(10,10))\n",
    "ax = fig.add_subplot(1,1,1)\n",
    "mod1=lambda t:np.random.normal(accepted[-1,0],accepted[-1,1],t)\n",
    "population = mod1(30)\n",
    "\n",
    "ax.hist(population,label='estimated',alpha = 0.5)\n",
    "ax.hist(observation,label='original',alpha = 0.5)\n",
    "ax.set_xlabel(\"Value\")\n",
    "ax.set_ylabel(\"Frequency\")\n",
    "ax.set_title(\"Figure 2: Distributions Compared\")\n",
    "ax.legend()\n",
    "\n",
    "plt.show()"
   ]
  }
 ],
 "metadata": {
  "colab": {
   "authorship_tag": "ABX9TyON5lM1rHhIpX3/alBOsbRQ",
   "provenance": []
  },
  "kernelspec": {
   "display_name": "Python 3 (ipykernel)",
   "language": "python",
   "name": "python3"
  },
  "language_info": {
   "codemirror_mode": {
    "name": "ipython",
    "version": 3
   },
   "file_extension": ".py",
   "mimetype": "text/x-python",
   "name": "python",
   "nbconvert_exporter": "python",
   "pygments_lexer": "ipython3",
   "version": "3.10.9"
  }
 },
 "nbformat": 4,
 "nbformat_minor": 1
}
