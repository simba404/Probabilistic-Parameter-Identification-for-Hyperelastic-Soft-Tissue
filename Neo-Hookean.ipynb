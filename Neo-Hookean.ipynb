{
 "cells": [
  {
   "cell_type": "code",
   "execution_count": 3,
   "id": "20ed24a6",
   "metadata": {},
   "outputs": [
    {
     "name": "stdout",
     "output_type": "stream",
     "text": [
      "The stress tensor is“：\n",
      " [[-9672752.87356322        0.                0.        ]\n",
      " [       0.         -9778787.35632184        0.        ]\n",
      " [       0.                0.         -9731235.63218391]]\n"
     ]
    }
   ],
   "source": [
    "import numpy as np\n",
    "\n",
    "# Defining elastic constants in the Neo-Hookean model\n",
    "def neohookean_constants(E, nu):\n",
    "    # Calculate Lamé constant\n",
    "    G = E / (2 * (1 + nu))\n",
    "    K = E / (3 * (1 - 2 * nu))\n",
    "    return K, G\n",
    "\n",
    "# Calculate the deformation tensor\n",
    "def deformation_gradient(dx):\n",
    "    F = np.eye(3) + dx\n",
    "    return F\n",
    "\n",
    "# Calculate the strain tensor\n",
    "def strain(F):\n",
    "    E = 0.5 * (F.T @ F - np.eye(3))\n",
    "    return E\n",
    "\n",
    "# Calculate the stress tensor\n",
    "def stress(E, K, G):\n",
    "    I1 = np.trace(E)\n",
    "    sigma = K * (I1 - 3) * np.eye(3) + 2 * G * E\n",
    "    return sigma\n",
    "\n",
    "# Define material parameters\n",
    "E = 1e6    # Young's modulus\n",
    "nu = 0.45  # Poisson's ratio\n",
    "\n",
    "# Calculate the elastic constant\n",
    "K, G = neohookean_constants(E, nu)\n",
    "\n",
    "# Define the deformation tensor\n",
    "dx = np.array([[0.1, 0, 0], [0, -0.05, 0], [0, 0, 0.02]])\n",
    "\n",
    "# Computing the Deformation Tensor and Strain Tensor\n",
    "F = deformation_gradient(dx)\n",
    "E = strain(F)\n",
    "\n",
    "# Calculate the stress tensor\n",
    "sigma = stress(E, K, G)\n",
    "\n",
    "print('The stress tensor is“：\\n', sigma)\n"
   ]
  },
  {
   "cell_type": "code",
   "execution_count": 4,
   "id": "066c347c",
   "metadata": {},
   "outputs": [
    {
     "data": {
      "text/plain": [
       "array([[1.1 , 0.  , 0.  ],\n",
       "       [0.  , 0.95, 0.  ],\n",
       "       [0.  , 0.  , 1.02]])"
      ]
     },
     "execution_count": 4,
     "metadata": {},
     "output_type": "execute_result"
    }
   ],
   "source": [
    "F"
   ]
  },
  {
   "cell_type": "code",
   "execution_count": null,
   "id": "c1eab1ff",
   "metadata": {},
   "outputs": [],
   "source": []
  }
 ],
 "metadata": {
  "kernelspec": {
   "display_name": "Python 3 (ipykernel)",
   "language": "python",
   "name": "python3"
  },
  "language_info": {
   "codemirror_mode": {
    "name": "ipython",
    "version": 3
   },
   "file_extension": ".py",
   "mimetype": "text/x-python",
   "name": "python",
   "nbconvert_exporter": "python",
   "pygments_lexer": "ipython3",
   "version": "3.10.9"
  }
 },
 "nbformat": 4,
 "nbformat_minor": 5
}
