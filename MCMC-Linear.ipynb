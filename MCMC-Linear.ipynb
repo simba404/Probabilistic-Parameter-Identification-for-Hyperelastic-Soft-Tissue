{
 "cells": [
  {
   "cell_type": "code",
   "execution_count": 8,
   "id": "894ce991",
   "metadata": {},
   "outputs": [
    {
     "name": "stderr",
     "output_type": "stream",
     "text": [
      "/var/folders/y5/_38246qd6zd0lmzngc4zlt8h0000gn/T/ipykernel_59941/3596381980.py:45: RuntimeWarning: overflow encountered in exp\n",
      "  p_accept = np.exp(llh_new - llh_current)\n"
     ]
    },
    {
     "name": "stdout",
     "output_type": "stream",
     "text": [
      "Acceptance rate: 0.13\n"
     ]
    }
   ],
   "source": [
    "import numpy as np\n",
    "\n",
    "# 定义线性弹性模型\n",
    "def linear_elastic_model(params, strain):\n",
    "    E = params['E']\n",
    "    nu = params['nu']\n",
    "    stress = E / (1 + nu) * (strain - nu/(1-nu) * np.mean(strain, axis=0))\n",
    "    return stress\n",
    "\n",
    "# 定义MCMC模型\n",
    "def mcmc_model(strain, stress_obs, draws=10000):\n",
    "    # 定义参数先验分布\n",
    "    E_mean = 1000\n",
    "    E_sd = 100\n",
    "    nu_mean = 0.4\n",
    "    nu_sd = 0.05\n",
    "    \n",
    "    # 初始化参数\n",
    "    E = np.random.normal(E_mean, E_sd)\n",
    "    nu = np.random.normal(nu_mean, nu_sd)\n",
    "    \n",
    "    # 初始化MCMC过程\n",
    "    trace = np.zeros((draws, 2))\n",
    "    accepted = 0\n",
    "    \n",
    "    # 运行MCMC\n",
    "    for i in range(draws):\n",
    "        # 计算当前参数下的应力\n",
    "        stress = linear_elastic_model({'E': E, 'nu': nu}, strain)\n",
    "        \n",
    "        # 计算似然函数值\n",
    "        llh_current = -0.5 * np.sum((stress - stress_obs)**2)\n",
    "        \n",
    "        # 从先验分布中随机抽取新的参数\n",
    "        E_new = np.random.normal(E, 10)\n",
    "        nu_new = np.random.normal(nu, 0.01)\n",
    "        \n",
    "        # 计算新参数下的应力\n",
    "        stress_new = linear_elastic_model({'E': E_new, 'nu': nu_new}, strain)\n",
    "        \n",
    "        # 计算新参数下的似然函数值\n",
    "        llh_new = -0.5 * np.sum((stress_new - stress_obs)**2)\n",
    "        \n",
    "        # 计算接受率\n",
    "        p_accept = np.exp(llh_new - llh_current)\n",
    "        \n",
    "        # 接受新参数\n",
    "        if p_accept > np.random.uniform():\n",
    "            E = E_new\n",
    "            nu = nu_new\n",
    "            accepted += 1\n",
    "        \n",
    "        # 保存参数\n",
    "        trace[i, 0] = E\n",
    "        trace[i, 1] = nu\n",
    "    \n",
    "    # 输出结果\n",
    "    print(f\"Acceptance rate: {accepted/draws:.2f}\")\n",
    "    return trace\n",
    "\n",
    "# 构建数据\n",
    "strain = np.array([[0.1, 0.2, 0.3], [0.2, 0.3, 0.4], [0.3, 0.4, 0.5]])\n",
    "stress_obs = np.array([[10, 20, 30], [20, 30, 40], [30, 40, 50]])\n",
    "\n",
    "# 运行MCMC\n",
    "trace = mcmc_model(strain, stress_obs)\n"
   ]
  },
  {
   "cell_type": "markdown",
   "id": "f18b9eb9",
   "metadata": {},
   "source": [
    "这段代码实现了一个使用MCMC（马尔可夫链蒙特卡罗）方法计算线性弹性模型软组织概率参数的示例。\n",
    "\n",
    "首先，定义了一个线性弹性模型函数linear_elastic_model，该函数接受一个参数字典params和应变（strain）数组，返回应力（stress）数组。这里假设线性弹性模型的杨氏模量（E）和泊松比（nu）是参数字典params中的两个键。具体计算公式可以根据具体情况进行修改，这里给出的是一种常见的计算公式。\n",
    "\n",
    "然后，定义了一个MCMC模型函数mcmc_model，该函数接受应变（strain）数组和观测应力（stress_obs）数组，并使用MCMC方法计算线性弹性模型的杨氏模量和泊松比的概率分布。该函数首先定义了杨氏模量和泊松比的先验分布，然后初始化参数E和nu，以及MCMC过程需要用到的变量trace和accepted。\n",
    "\n",
    "在MCMC过程中，首先计算当前参数下的应力（stress）和似然函数值（llh_current），然后从杨氏模量和泊松比的先验分布中抽取新的参数E_new和nu_new，计算新参数下的应力（stress_new）和似然函数值（llh_new），然后计算接受率（p_accept）并根据接受率决定是否接受新参数。最后，将参数E和nu保存到trace数组中，并统计接受率。\n",
    "\n",
    "在代码末尾，构建了一个应变（strain）数组和观测应力（stress_obs）数组，并调用mcmc_model函数运行MCMC过程，得到杨氏模量和泊松比的概率分布。在实际使用中，可能需要对结果进行进一步的分析和可视化。"
   ]
  },
  {
   "cell_type": "code",
   "execution_count": null,
   "id": "0f42452e",
   "metadata": {},
   "outputs": [],
   "source": []
  }
 ],
 "metadata": {
  "kernelspec": {
   "display_name": "Python 3 (ipykernel)",
   "language": "python",
   "name": "python3"
  },
  "language_info": {
   "codemirror_mode": {
    "name": "ipython",
    "version": 3
   },
   "file_extension": ".py",
   "mimetype": "text/x-python",
   "name": "python",
   "nbconvert_exporter": "python",
   "pygments_lexer": "ipython3",
   "version": "3.10.9"
  }
 },
 "nbformat": 4,
 "nbformat_minor": 5
}
