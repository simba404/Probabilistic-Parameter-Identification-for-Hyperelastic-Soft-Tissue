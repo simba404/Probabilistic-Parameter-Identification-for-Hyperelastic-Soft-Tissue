{
 "cells": [
  {
   "cell_type": "code",
   "execution_count": 1,
   "id": "9176282b",
   "metadata": {},
   "outputs": [
    {
     "name": "stderr",
     "output_type": "stream",
     "text": [
      "/var/folders/y5/_38246qd6zd0lmzngc4zlt8h0000gn/T/ipykernel_16892/3529092758.py:9: RuntimeWarning: invalid value encountered in log\n",
      "  stress = mu/J*(F - np.eye(3)) + lamb/J*np.log(J)*np.eye(3)\n"
     ]
    },
    {
     "name": "stdout",
     "output_type": "stream",
     "text": [
      "Estimated mu: 1.0\n",
      "Estimated lamb: 10.0\n",
      "Estimated noise_std: 0.1\n"
     ]
    }
   ],
   "source": [
    "import numpy as np\n",
    "from scipy.optimize import minimize\n",
    "from scipy.stats import norm\n",
    "\n",
    "# 定义Neo-Hookean模型的应力计算函数\n",
    "# Define the stress calculation function of the Neo-Hookean model\n",
    "def neo_hookean_stress(F, mu, lamb):\n",
    "    Ic = np.trace(np.dot(F.T, F))\n",
    "    J = np.linalg.det(F)\n",
    "    stress = mu/J*(F - np.eye(3)) + lamb/J*np.log(J)*np.eye(3)\n",
    "    return stress\n",
    "\n",
    "# 生成样本数据（形变张量和应力张量）\n",
    "# generate sample data (deformation tensor and stress tensor)\n",
    "n_samples = 1000\n",
    "mu_true = 1.0\n",
    "lamb_true = 10.0\n",
    "noise_std = 0.05\n",
    "F_samples = np.random.uniform(0.8, 1.2, size=(n_samples, 3, 3))\n",
    "stress_samples = np.zeros((n_samples, 3, 3))\n",
    "for i in range(n_samples):\n",
    "    stress_samples[i] = neo_hookean_stress(F_samples[i], mu_true, lamb_true)\n",
    "    noise = np.random.normal(scale=noise_std, size=(3, 3))\n",
    "    stress_samples[i] += noise\n",
    "\n",
    "# 定义似然函数（概率模型）\n",
    "# Define the likelihood function (probability model)\n",
    "def likelihood(params, F, stress):\n",
    "    mu, lamb, noise_std = params\n",
    "    n_samples = F.shape[0]\n",
    "    ll = 0\n",
    "    for i in range(n_samples):\n",
    "        model_stress = neo_hookean_stress(F[i], mu, lamb)\n",
    "        ll += norm.logpdf(stress[i], loc=model_stress, scale=noise_std).sum()\n",
    "    return -ll\n",
    "\n",
    "# 最大化似然函数，得到最优的模型参数估计\n",
    "# Maximize the likelihood function to get the optimal model parameter estimation\n",
    "res = minimize(likelihood, x0=[1.0, 10.0, 0.1], args=(F_samples, stress_samples), method='L-BFGS-B')\n",
    "mu_est, lamb_est, noise_std_est = res.x\n",
    "print('Estimated mu:', mu_est)\n",
    "print('Estimated lamb:', lamb_est)\n",
    "print('Estimated noise_std:', noise_std_est)\n"
   ]
  },
  {
   "cell_type": "code",
   "execution_count": null,
   "id": "04fae066",
   "metadata": {},
   "outputs": [],
   "source": []
  }
 ],
 "metadata": {
  "kernelspec": {
   "display_name": "Python 3 (ipykernel)",
   "language": "python",
   "name": "python3"
  },
  "language_info": {
   "codemirror_mode": {
    "name": "ipython",
    "version": 3
   },
   "file_extension": ".py",
   "mimetype": "text/x-python",
   "name": "python",
   "nbconvert_exporter": "python",
   "pygments_lexer": "ipython3",
   "version": "3.10.9"
  }
 },
 "nbformat": 4,
 "nbformat_minor": 5
}
