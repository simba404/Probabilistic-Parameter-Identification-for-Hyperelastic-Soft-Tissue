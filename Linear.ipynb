{
 "cells": [
  {
   "cell_type": "code",
   "execution_count": 8,
   "id": "b21a35ca",
   "metadata": {},
   "outputs": [
    {
     "name": "stdout",
     "output_type": "stream",
     "text": [
      "Estimated E: 1000000.0000000002\n",
      "Estimated nu: 0.2997353982488295\n",
      "Estimated noise_std: 99.99999997279618\n"
     ]
    }
   ],
   "source": [
    "import numpy as np\n",
    "from scipy.optimize import minimize\n",
    "from scipy.stats import norm\n",
    "\n",
    "# 定义linear elastic模型的应力计算函数\n",
    "# Define the stress calculation function of the linear elastic model\n",
    "def linear_elastic_stress(strain, E, nu):\n",
    "    D = E/(1 - nu**2)*np.array([[1, nu, 0], [nu, 1, 0], [0, 0, (1 - nu)/2]])\n",
    "    stress = np.dot(D, strain)\n",
    "    return stress\n",
    "\n",
    "# 生成样本数据（应变和应力）\n",
    "# generate sample data (strain and stress)\n",
    "n_samples = 1000\n",
    "E_true = 1.0e6\n",
    "nu_true = 0.3\n",
    "noise_std = 100.0\n",
    "strain_samples = np.random.uniform(-0.01, 0.01, size=(n_samples, 3))\n",
    "stress_samples = np.zeros((n_samples, 3))\n",
    "for i in range(n_samples):\n",
    "    stress_samples[i] = linear_elastic_stress(strain_samples[i], E_true, nu_true)\n",
    "    noise = np.random.normal(scale=noise_std, size=3)\n",
    "    stress_samples[i] += noise\n",
    "\n",
    "# 定义似然函数（概率模型）\n",
    "# Define the likelihood function (probability model)\n",
    "def likelihood(params, strain, stress):\n",
    "    E, nu, noise_std = params\n",
    "    n_samples = strain.shape[0]\n",
    "    ll = 0\n",
    "    for i in range(n_samples):\n",
    "        model_stress = linear_elastic_stress(strain[i], E, nu)\n",
    "        ll += norm.logpdf(stress[i], loc=model_stress, scale=noise_std).sum()\n",
    "    return -ll\n",
    "\n",
    "# 最大化似然函数，得到最优的模型参数估计\n",
    "# Maximize the likelihood function to get the optimal model parameter estimation\n",
    "# x0=[initial value]\n",
    "res = minimize(likelihood, x0=[1.0e6, 0.3, 100.0], args=(strain_samples, stress_samples), method='L-BFGS-B')\n",
    "E_est, nu_est, noise_std_est = res.x\n",
    "print('Estimated E:', E_est)\n",
    "print('Estimated nu:', nu_est)\n",
    "print('Estimated noise_std:', noise_std_est)\n"
   ]
  },
  {
   "cell_type": "markdown",
   "id": "74ce63f2",
   "metadata": {},
   "source": [
    "已知stress，求参数E，nu，noise"
   ]
  },
  {
   "cell_type": "code",
   "execution_count": null,
   "id": "f08361d8",
   "metadata": {},
   "outputs": [],
   "source": []
  }
 ],
 "metadata": {
  "kernelspec": {
   "display_name": "Python 3 (ipykernel)",
   "language": "python",
   "name": "python3"
  },
  "language_info": {
   "codemirror_mode": {
    "name": "ipython",
    "version": 3
   },
   "file_extension": ".py",
   "mimetype": "text/x-python",
   "name": "python",
   "nbconvert_exporter": "python",
   "pygments_lexer": "ipython3",
   "version": "3.10.9"
  }
 },
 "nbformat": 4,
 "nbformat_minor": 5
}
